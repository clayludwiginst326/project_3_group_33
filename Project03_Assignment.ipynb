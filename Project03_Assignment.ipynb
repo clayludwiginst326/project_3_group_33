{
 "cells": [
  {
   "cell_type": "markdown",
   "id": "cddf5de3-a9f3-4471-bbaf-aca41a70ce89",
   "metadata": {},
   "source": [
    "### INST326 OOP Project 03"
   ]
  },
  {
   "cell_type": "markdown",
   "id": "c5348ac6",
   "metadata": {},
   "source": [
    " ### Rukayat Fakoya, \n",
    "> INST326 Section 0202  \n",
    "> Group number 33\n",
    "> Project 3\n",
    "> OCT 8 2024\n",
    "> 8183  /\n",
    "#### Honor Pledge\n",
    "> I pledge that the work contained in this assignment is my own, and that I have complied with the University and course policices on academic integrity, and AI use.\n",
    "#### Disclosures\n",
    "> None\n",
    "\n",
    "### Martin Konteh, \n",
    "> INST326 Section 0202  \n",
    "> Group number 33\n",
    "> Project 3\n",
    "> OCT 8 2024\n",
    "> 8183  /\n",
    "#### Honor Pledge\n",
    "> I pledge that the work contained in this assignment is my own...\n",
    "#### Disclosures\n",
    "> None.\n",
    "\n",
    "### Clay Ludwig\n",
    "> INST326 Section 0202\n",
    "> OOP Project 03\n",
    "> 20 Nov. 2024\n",
    "#### Honor Pledge\n",
    "> I pledge that the work contained in this assignment is my own, and that I have complied with University and course policies on academic integrity, and AI use.\n",
    "#### Disclosures and Citations\n",
    "> No disclosures or citations."
   ]
  },
  {
   "cell_type": "markdown",
   "id": "8ee05bdb-db2d-41c2-9f23-3af75d058612",
   "metadata": {},
   "source": [
    "### The Project\n",
    "Everyone will do the same project this time. This is a group project, so you must work in your assigned groups. Include the link to your group's GitHub repository (one link per group). Use comments in your code to document your solution. If you need to write comments to the grader, add a markdown cell immediately above your code solution and add your comments there. Be sure to read and follow all the requirements and the Notebook Instructions at the bottom of this notebook. Your grade may depend on it!"
   ]
  },
  {
   "cell_type": "markdown",
   "id": "a1c98e85-2c64-4a03-8309-d91035cca6d2",
   "metadata": {},
   "source": [
    "#### 1. A Scheduling Program\n",
    ">  My wife is responsible for scheduling caregivers for her 93 year-old mother. Currently she writes out the schedule on a monthly calendar and photocopies it for everyone. I want all of you to help me write a program to help her with scheduling. While this is a specific application, this program will be broadly useful and adaptable to any scheduling needs for small businesses, clubs, and more."
   ]
  },
  {
   "cell_type": "markdown",
   "id": "28b28d8a-dbb3-4f15-bbe0-e14504b84876",
   "metadata": {},
   "source": [
    "#### Requirements\n",
    ">  Care is required 12 hours per day, 7 days a week. There are two shifts each day: 7:00 AM - 1:00 PM, and 1:00 PM to 7:00 PM. There are a total of 8 caregivers. Some are family members and some are paid. Each caregiver has their own availability for shifts that is generally the same from month to month, but there are exceptions for work, vacations, and other responsibilities. Your program should do the following:\n",
    "> 1. Manage caregivers and their schedules. Attributes include: name, phone, email, pay rate, and hours.\n",
    "> 2. Each caregiver should have their own availability schedule where they can indicate their availability for each shift. Availability categories are 'preferred', 'available' (default), and 'unavailable'.\n",
    "> 3. Create a care schedule that covers AM and PM shifts and displays caregiver names on a calendar (see example). The schedule should accomodate caregivers' individual schedules and availability preferences. The python calendar module provides options for creating HTML calendars. Sample code for the HTML calendar is in the project folder.\n",
    "----------------------\n",
    "> 4. Paid caregivers are paid weekly at $20/hr. Your program should calculate weekly pay based on assigned hours. Provide a separate pay report that lists weekly (gross: hours x rate) amounts to each caregiver, along with weekly and monthly totals. The report can be a text document, or presented in GUI or HTML format. "
   ]
  },
  {
   "cell_type": "markdown",
   "id": "6708f6cf-aac7-430e-947d-6f9c8dd161f6",
   "metadata": {
    "jp-MarkdownHeadingCollapsed": true
   },
   "source": [
    "#### Group Requirements\n",
    ">  1. Your submitted project should follow OOP principles like abstraction, encapsulation, inheritance, and polymorphism as appropriate. Your program should use classes. \n",
    ">  2. Select a group leader who will host the group's project repository on their GitHub.\n",
    ">  3. Create the group repository and add a main program document. See example.\n",
    ">  4. Create branches off the main program for each group member, and assign part of the program to each member.\n",
    ">  5. Each member should work on their branch.\n",
    ">  6. When each member is finished, merge the branches back into the main program. You may use 'merge' or 'pull requests', your choice.\n",
    ">  7. iterate and debug as necessary."
   ]
  },
  {
   "cell_type": "markdown",
   "id": "71b8f18e-607a-4c94-81a3-ebbc488ba8c6",
   "metadata": {},
   "source": [
    "#### Working with HTML\n",
    "> Since this is a course on python, not HTML, you are not expected to know HTML. Therefore, you may copy applicable portions of the sample code or use AI to write the HTML portions of your application. Ypu should write the main python code yourself.\n"
   ]
  },
  {
   "cell_type": "markdown",
   "id": "fc336368-4292-42af-aa60-06b27ff6b303",
   "metadata": {
    "jp-MarkdownHeadingCollapsed": true
   },
   "source": [
    "#### What you need to turn in\n",
    ">  This is a group project. There will be one submission per group. Your submission will be graded as a group.\n",
    ">  1. Include your group number and the names of all group members in the signature block at the top of this notebook.\n",
    ">  2. In the cell below, paste the link to your project repository. One link per group. The grader will review the activity and history provided by GitHub. To add a hyperlink to a Jupyter markdown cell, follow the instructions in the cell below.\n",
    ">  3. Below the GitHub Repository Link cell is a code cell. Copy and paste your final program code into this cell."
   ]
  },
  {
   "cell_type": "markdown",
   "id": "3ece03e6-a41f-484d-8417-d8c4e156b2c0",
   "metadata": {},
   "source": [
    "#### GitHub Repository Link\n",
    "> Example: [INST326_Fall2024/Projects/Project03](https://github.com/sdempwolf/INST326_Fall_2024/tree/main/Projects/Project03)\n",
    ">\n",
    "> Edit the link code below with your information, then run this cell. Test the link! It should take you to your GitHub project repository.\n",
    "> [INST326_Project_3_Group_33](https://github.com/clayludwiginst326/project_3_group_33/tree/main)"
   ]
  },
  {
   "cell_type": "code",
<<<<<<< Updated upstream
   "execution_count": 28,
=======
   "execution_count": null,
>>>>>>> Stashed changes
   "id": "cb35b908-6683-4144-816c-051715925504",
   "metadata": {},
   "outputs": [
    {
     "name": "stdout",
     "output_type": "stream",
     "text": [
      "HTML schedule saved as work_schedule_2024_12.html\n",
      "Report saved as pay_report.txt\n"
     ]
    }
   ],
   "source": [
    "# Solution - enter your code solution below\n",
    "import calendar\n",
    "from datetime import datetime\n",
    "\n",
    "# Repesents the caregivers name, personal details, hourly pay and availbility\n",
    "class Caregiver:\n",
    "    def __init__(self, name, phone, email, pay_rate):\n",
    "        self.name = name\n",
    "        self.phone = phone\n",
    "        self.email = email\n",
    "        self.pay_rate = pay_rate\n",
    "        self.hours = 0\n",
    "        self.availablity = {}\n",
    "\n",
    " #Updates the availability for caregiver.\n",
    "    def set_availablity(self, date, shift, status):\n",
    "        if date not in self.availablity:\n",
    "            self.availablity[date] = {}\n",
    "        self.availablity[date][shift] = status\n",
    "\n",
    " # String representation for caregiver\n",
    "    def __str__(self):\n",
    "        return f\"Name: {self.name}, Phone: {self.phone}, Email: {self.email}, Pay Rate: ${self.pay_rate}/hr, Hours: {self.hours} hrs\"\n",
    "\n",
<<<<<<< Updated upstream
    "# Class for schedule object\n",
=======
>>>>>>> Stashed changes
    "class Schedule:\n",
    "    def __init__(self):\n",
    "        self.caregivers = []\n",
    "\n",
    "    # Add caregiver to the list\n",
    "    def add_caregiver(self, caregiver):\n",
    "        self.caregivers.append(caregiver)\n",
    "\n",
    "    # Remove caregiver by name\n",
    "    def remove_caregiver(self, name):\n",
    "        self.caregivers = [c for c in self.caregivers if c.name != name]\n",
    "\n",
    "    # Generate a schedule for the specified number of days\n",
    "    def generate_schedule(self, days):\n",
    "        schedule = {}\n",
    "        for day in range(1, days + 1):\n",
    "            date = f\"Day {day}\"\n",
    "            schedule[date] = {\n",
    "                \"7:00 AM - 1:00 PM\": None,\n",
    "                \"1:00 PM - 7:00 PM\": None,\n",
    "            }\n",
    "            for shift in schedule[date]:\n",
    "                for caregiver in self.caregivers:\n",
    "                    if date in caregiver.availability and caregiver.availability[date].get(shift) == \"preferred\":\n",
    "                        schedule[date][shift] = caregiver.name\n",
    "                        caregiver.hours += 6\n",
    "                        break\n",
    "                    elif date in caregiver.availability and schedule[date][shift] is None and caregiver.availability[date].get(shift) == \"available\":\n",
    "                        schedule[date][shift] = caregiver.name\n",
    "                        caregiver.hours += 6\n",
    "        return schedule\n",
    "\n",
    "    # Print the schedule\n",
    "    def print_schedule(self, schedule):\n",
    "        for day, shifts in schedule.items():\n",
    "            print(f\"\\n{day}:\")\n",
    "            for shift, caregiver in shifts.items():\n",
    "                print(f\"  {shift}: {caregiver if caregiver else 'No caregiver assigned'}\")\n",
    "\n",
    "\n",
<<<<<<< Updated upstream
    "# Class for pay report object\n",
    "class PayReport:\n",
    "    #Initializing report object with list of workers\n",
    "    def __init__(self, workers):\n",
    "        self.workers = workers\n",
    "    \n",
    "    #Create report with dates and weekly gross pay\n",
    "    def generate_report(self):\n",
    "        report_lines = []\n",
    "        report_lines.append(\"Payment Report\")\n",
    "        report_lines.append(f\"Date: {datetime.now().strftime('%Y-%m-%d')}\")\n",
    "        report_lines.append(\"\\nWorker Weekly Gross Pay: \")\n",
    "\n",
    "        weekly_total = 0\n",
    "\n",
    "        #Each worker has weekly pay saved to report\n",
    "        for worker in self.workers:\n",
    "            weekly_pay = worker.calculate_weekly_pay()\n",
    "            report_lines.append(f\"{worker.name}: ${weekly_pay:.2f} ({worker.hours_worked} hours at ${worker.hourly_rate}/hour)\")\n",
    "            weekly_total += weekly_pay\n",
    "        \n",
    "        monthly_total = weekly_total * 4\n",
    "\n",
    "        #Report summary creation\n",
    "        report_lines.append(\"\\nSummary Totals:\")\n",
    "        report_lines.append(f\"Weekly Total: ${weekly_total:.2f}\")\n",
    "        report_lines.append(f\"Estimated Monthly Total: ${monthly_total:.2f}\")\n",
    "\n",
    "        return \"\\n\".join(report_lines)\n",
    "    #Creating report file output \n",
    "    def save_report(self, filename = \"pay_report.txt\"):\n",
    "        report_text = self.generate_report()\n",
    "        with open(filename, \"w\") as file:\n",
    "            file.write(report_text)\n",
    "        print(f\"Report saved as {filename}\")\n",
    "\n",
    "\n",
    "#Adjust workers list here for example file creation\n",
    "workers = [\n",
    "    Worker(\"Kim\", 20),\n",
    "    Worker(\"Dave\", 40)\n",
    "]\n",
    "\n",
    "# Set availability for workers (this is just an example I'm using to test for now)\n",
    "workers[0].set_availability(1, \"7:00AM - 1:00PM\", \"available\")\n",
    "workers[0].set_availability(1, \"1:00PM - 7:00PM\", \"available\")\n",
    "workers[1].set_availability(1, \"7:00AM - 1:00PM\", \"preferred\")\n",
    "workers[1].set_availability(1, \"1:00PM - 7:00PM\", \"available\")\n",
    "\n",
    "workers[0].set_availability(2, \"7:00AM - 1:00PM\", \"available\")\n",
    "workers[0].set_availability(2, \"1:00PM - 7:00PM\", \"available\")\n",
    "workers[1].set_availability(2, \"7:00AM - 1:00PM\", \"available\")\n",
    "workers[1].set_availability(2, \"1:00PM - 7:00PM\", \"available\")\n",
    "\n",
    "schedule = Schedule(workers, 2024, 12)\n",
    "schedule.display_schedule_as_html()\n",
    "\n",
    "pay_report = PayReport(workers)\n",
    "pay_report.save_report(\"pay_report.txt\")\n",
=======
>>>>>>> Stashed changes
    "        "
   ]
  },
  {
   "cell_type": "markdown",
   "id": "ec8ddd19-87cd-475d-a07f-7dc8983dc636",
   "metadata": {},
   "source": [
    "### Notebook Instructions\n",
    "> Before turning in your notebook:\n",
    "> 1. Make sure you have renamed the notebook file as instructed\n",
    "> 2. Make sure you have included your signature block and that it is correct according to the instructions\n",
    "> 3. comment your code as necessary\n",
    "> 4. run all code cells and double check that they run correctly. If you can't get your code to run correctly and you want partial credit, add a note for the grader in a new markdown cell directly above your code solution.<br><br>\n",
    "Turn in your notebook by uploading it to ELMS<br>\n",
    "IF the exercises involve saved data files, put your notebook and the data file(s) in a zip folder and upload the zip folder to ELMS"
   ]
  },
  {
   "cell_type": "code",
   "execution_count": null,
   "id": "c2f96be2-9bc0-46ea-98fb-51d8c07c7de8",
   "metadata": {},
   "outputs": [],
   "source": []
  }
 ],
 "metadata": {
  "kernelspec": {
   "display_name": "base",
   "language": "python",
   "name": "python3"
  },
  "language_info": {
   "codemirror_mode": {
    "name": "ipython",
    "version": 3
   },
   "file_extension": ".py",
   "mimetype": "text/x-python",
   "name": "python",
   "nbconvert_exporter": "python",
   "pygments_lexer": "ipython3",
   "version": "3.9.6"
  }
 },
 "nbformat": 4,
 "nbformat_minor": 5
}
